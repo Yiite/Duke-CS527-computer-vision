{
 "cells": [
  {
   "cell_type": "markdown",
   "metadata": {
    "tags": [
     "HST"
    ]
   },
   "source": [
    "# Homework 1"
   ]
  },
  {
   "cell_type": "markdown",
   "metadata": {
    "tags": [
     "H"
    ]
   },
   "source": [
    "## Working in Groups"
   ]
  },
  {
   "cell_type": "markdown",
   "metadata": {
    "tags": [
     "H"
    ]
   },
   "source": [
    "You are strongly encouraged to work in pairs or triples on this and other assignments for this course. If you work alone you will have nobody (other than the teaching staff) to talk to if you get stuck, given the **no-communication policy** for this course, stated on the class [mechanics page](https://www2.cs.duke.edu/courses/spring19/compsci527/mechanics.html) under _Academic Integrity_. Working in a group will also reduce the turnaround time for grades, as we will have fewer submissions to read.\n",
    "\n",
    "You are only allowed to work alone, in a pair, or in a triple. Your group may change between assignments, but it cannot change once you started working on a particular assignment, and until that assignment has been finally submitted.\n",
    "\n",
    "When an assignment has multiple authors, it is not possible for us to give different grades to different group participants. If you collaborate poorly (for instance, subdivide the work or the competences, or just take advantage of your peer(s) and do nothing), you will suffer in exams and, more importantly, will not learn."
   ]
  },
  {
   "cell_type": "markdown",
   "metadata": {
    "tags": [
     "H"
    ]
   },
   "source": [
    "## Homework Submission Workflow\n",
    "\n",
    "When you submit your work, follow the instructions on the [submission workflow page](https://www.cs.duke.edu/courses/spring19/compsci527/homework/workflow.html) _**scrupulously**_ for full credit.\n",
    "\n",
    "**Important: Failure to do any of the following will result in lost points:**\n",
    "\n",
    "- Submit **one** PDF file and **one** notebook per group\n",
    "\n",
    "- Enter **all the group members** through the Gradescope GUI when you submit your PDF files. It is **not** enough to list group members in your documents\n",
    "\n",
    "- Match each **answer** (not question!) with the appropriate page in Gradescope\n",
    "\n",
    "- Avoid large blank spaces in your PDF file"
   ]
  },
  {
   "cell_type": "markdown",
   "metadata": {
    "tags": [
     "H"
    ]
   },
   "source": [
    "## About this Assignment"
   ]
  },
  {
   "cell_type": "markdown",
   "metadata": {
    "tags": [
     "H"
    ]
   },
   "source": [
    "This assignment is due before the drop/add period ends, and is a way for you to test your own understanding of the prerequisites. It also guides you through logistical issues, such as installing an appropriate distribution of Python 3, editing notebooks, and submitting your work to Gradescope. This assignment will be graded like all the other assignments, and will be included in the computation of your final grade for the course."
   ]
  },
  {
   "cell_type": "markdown",
   "metadata": {
    "tags": [
     "H"
    ]
   },
   "source": [
    "## Anaconda\n",
    "\n",
    "Before you start, make sure you install the [Anaconda](https://www.anaconda.com/download) Python distribution, which contains essentially all of the code you will need for this course. Please do not use other installations of Python, and install the version for Python 3, not Python 2. Also, if you install new Python packages later on, do not mix package installation methods, unless you know very thoroughly what you are doing (for instance, do not use `pip` to install new software, only use `conda`).\n",
    "\n",
    "If you already have an installation of Anaconda, make sure all your packages are up-to-date. This can be achieved by closing anything related to Anaconda (`spyder`, `jupyter`, `Anaconda Navigator`, ...) and typing the following command to a terminal prompt:\n",
    "\n",
    "    conda update --all -y\n",
    "    \n",
    "Starting with an up-to-date Anaconda distribution will save you big headaches as the semester progresses.\n",
    "\n",
    "## Editing a Notebook\n",
    "\n",
    "Homework assignments in this course, including this one, are made available as HTML files, which you can only read and print. A separate template file is also made available for each assignment. The template is a Jupyter notebook, a file called `homework0n.ipynb`, where `n` is the homework number. This is a file you can also edit, and will become the notebook you submit for grading.\n",
    "\n",
    "As an exception, for this first assignment you also get the notebook `assignment01.ipynb` in addition to the HTML file `assignment01.html`. In this way, you can also open `assignment01.ipynb` in the notebook editor and look at how this notebook was made. Once you are comfortable with notebook syntax, _**make sure you start from the template notebook**_ `homework01.ipynb`, _**not from the source notebook, to produce your submission.**_\n",
    "\n",
    "To edit a notebook, start the Anaconda Navigator and launch Jupyter Notebook from the Navigator. This will open a new page in your web browser with a listing of your home directory. Navigate to the directory where you put the files `assignment01.ipynb` and `homework01.ipynb` and click on each of them to open them. The files will open in the notebook editor in separate tabs of your web browser. _**Again, remember that**_ `assignment01.ipynb` _**is just for playing with, while**_ `homework01.ipynb` _**is the file you start from for your assignment.**_ You can read the text of the assignment by opening `assignment01.html` in your browser, or by going to the page that displays `assignment01.ipynb` and running `Kernel->Restart & Run All`.\n",
    "\n",
    "To edit some text or code in either file, double-click on it. This will change the display of that _cell_ to edit mode. Try this now.\n",
    "\n",
    "### Working with Cells\n",
    "\n",
    "A _cell_ is a block of content. There are a few different types of cell, but we will be concerned maily with `Markdown` cells and `Code` cells. The former contain text, including mathematics, and the latter contain snippets of code (Python 3 for us, although notebooks can deal with any programming language).\n",
    "\n",
    "When you run a `Markdown` cell, its contents are formatted and displayed. A `Markdown` cell can also contain straight HTML code. However, there won't be any need for this in this course.\n",
    "\n",
    "When you run a `Code` cell, the code in it is executed in the current _kernel_, and any output from it is displayed after the cell. Any object created during execution (variables, function definitions,...) remains alive in the kernel, so you can assign a value to a variable in one cell and access it in a later cell. You can do various things to the kernel, such as restart it, interrupt it, and so forth. Please browse the `Kernel` menu at the top of the page.\n",
    "\n",
    "To make, edit, delete, run, and do several other things to and with cells, you use the commands in the `Edit`, `View`, `Insert`, `Cell` menus. Look at these menus and try out some of the commands. The icons just below the menus are shortcuts for some of the more common commands.\n",
    "\n",
    "In `Markdown` cells, all text except mathematics is formatted with _Markdown_ syntax, a simplified document annotation language. The mathematics is typeset in LaTeX, a document formatting language. It is enclosed between dollar signs when it is inline with the text like the equation $\\frac{de^x}{dx} = e^x$, and between double dollar signs when it is displayed in the middle of a line on its own, like this:\n",
    "\n",
    "$$\\int_0^{\\infty} e^{x} dx = 1$$\n",
    "\n",
    "(look at the source of this text to see how this works). The easiest way to figure our how Markdown and LaTeX work is to look at the source of this notebook to see how text and math were composed, and how code was entered.\n",
    "\n",
    "> For your reference, here is [a list of Markdown syntax elements](https://www.markdownguide.org/cheat-sheet/)\n",
    ">\n",
    "> For your reference, here is [a list of LaTeX commands for mathematics](https://en.wikibooks.org/wiki/LaTeX/Mathematics)\n",
    "\n",
    "After you make changes to a cell, you can see the results of your changes by selecting `Cell->Run Cells` or `Cell->Run All`. The first command runs only the cell you are in, or the cells you select. The second command runs all the cells in the notebook. The `Run` button in the menu bar is a shortcut for `Cell->Run Cells`.\n",
    "\n",
    "\n",
    "## Starting your Work\n",
    "\n",
    "To work on this assignment, open the HTML version `assignment01.html` of the assignment in one browser window, and open the notebook `homework01.ipynb` in the notebook editor (in another browser window) next to it. _**It is strongly recommended that you close**_ `assignment01.ipynb` to make sure you do not inadvertently put your work into that file.\n",
    "\n",
    "As you work on `homework01.ipynb`, add as many cells as you need to answer the questions (use the `Insert->Cell Below` menu or the `+` icon in the menu bar). When you do so, make sure you select the proper cell type (`Markdown` for text, `Code` for Python code) from the menu, or else your formatting of text will not work, and your code will not run.\n",
    "\n",
    "Some of the problems below involve coding, some do not."
   ]
  },
  {
   "cell_type": "markdown",
   "metadata": {
    "tags": [
     "HST"
    ]
   },
   "source": [
    "## Part 1: Calculus"
   ]
  },
  {
   "cell_type": "markdown",
   "metadata": {
    "tags": [
     "H"
    ]
   },
   "source": [
    "Let $\\mathbf{x} = [x, y]^T$ (where the superscript $T$ denotes transposition) and define\n",
    "\n",
    "$$\n",
    "f(\\mathbf{x}) = x^3 - 3 x^2 + y^3 - 3 y^2\n",
    "$$\n",
    "\n",
    "to be a function from $\\mathbb{R}\\times \\mathbb{R}$ to $\\mathbb{R}$."
   ]
  },
  {
   "cell_type": "markdown",
   "metadata": {
    "tags": [
     "HST"
    ]
   },
   "source": [
    "### Problem 1.1"
   ]
  },
  {
   "cell_type": "markdown",
   "metadata": {
    "tags": [
     "HST"
    ]
   },
   "source": [
    "Write an expression for the gradient of $f$,\n",
    "\n",
    "$$\n",
    "\\nabla f(\\mathbf{x}) = \\frac{\\partial f}{\\partial \\mathbf{x}} =\n",
    "\\left[\\begin{array}{c}\n",
    "\\frac{\\partial f}{\\partial x} \\\\\n",
    "\\frac{\\partial f}{\\partial y} \\end{array} \\right]\\;.\n",
    "$$"
   ]
  },
  {
   "cell_type": "markdown",
   "metadata": {
    "tags": [
     "HST"
    ]
   },
   "source": [
    "### Problem 1.2"
   ]
  },
  {
   "cell_type": "markdown",
   "metadata": {
    "tags": [
     "HST"
    ]
   },
   "source": [
    "Write an expression for the Hessian of $f$,\n",
    "\n",
    "$$\n",
    "H_f(\\mathbf{x}) =\n",
    "\\frac{\\partial^2 f}{\\partial \\mathbf{x} \\partial \\mathbf{x}^T} =\n",
    "\\left[\\begin{array}{cc}\n",
    "\\frac{\\partial^2 f}{\\partial x^2} &\n",
    "\\frac{\\partial^2 f}{\\partial x \\partial y}\\\\\n",
    "\\frac{\\partial^2 f}{\\partial y \\partial x} &\n",
    "\\frac{\\partial^2 f}{\\partial y^2} \\end{array} \\right]\\;.\n",
    "$$"
   ]
  },
  {
   "cell_type": "markdown",
   "metadata": {
    "tags": [
     "H"
    ]
   },
   "source": [
    "_**Notation:**_ The expression after the first equality is standard notation for the second derivatives of a scalar function with respect to a vector of variables. The result is a matrix ($2\\times 2$ in the specific case), which is given as the last expression. If this confuses you, just ignore the expression in the middle."
   ]
  },
  {
   "cell_type": "markdown",
   "metadata": {
    "tags": [
     "HST"
    ]
   },
   "source": [
    "### Problem 1.3"
   ]
  },
  {
   "cell_type": "markdown",
   "metadata": {
    "tags": [
     "HST"
    ]
   },
   "source": [
    "Give expressions for the eigenvalues $\\lambda_1 (x, y)$ and $\\lambda_2(x, y)$ (in any order) of $H_f$."
   ]
  },
  {
   "cell_type": "markdown",
   "metadata": {
    "tags": [
     "HST"
    ]
   },
   "source": [
    "### Problem 1.4"
   ]
  },
  {
   "cell_type": "markdown",
   "metadata": {
    "tags": [
     "HST"
    ]
   },
   "source": [
    "Give expressions for all the unit-norm eigenvectors $\\mathbf{u}_1$ of $H_f$ corresponding to the eigenvalue $\\lambda_1 (x, y)$ you found in the previous problem and for all the unit-norm eigenvectors $\\mathbf{u}_2$ corresponding to the eigenvalue $\\lambda_2(x, y)$."
   ]
  },
  {
   "cell_type": "markdown",
   "metadata": {
    "tags": [
     "H"
    ]
   },
   "source": [
    "Make sure that your expressions give *all* the unit-norm eigenvectors, and that the expressions hold for *all* values of $x$ and $y$.\n",
    "\n",
    "You are not asked to show your derivation. However, do show your reasoning if you are unsure, for possible partial credit."
   ]
  },
  {
   "cell_type": "markdown",
   "metadata": {
    "tags": [
     "HST"
    ]
   },
   "source": [
    "### Problem 1.5"
   ]
  },
  {
   "cell_type": "markdown",
   "metadata": {
    "tags": [
     "HST"
    ]
   },
   "source": [
    "Give _all_ the stationary points of $f$. For each of them, state whether it is a minimum, a maximum, or a saddle point, and give unit vectors along the directions of maximum and minimum curvature (or state that curvatures in all directions are equal, if that is the case)."
   ]
  },
  {
   "cell_type": "markdown",
   "metadata": {
    "tags": [
     "H"
    ]
   },
   "source": [
    "The curvature of a function along a given direction is defined as the second derivative of $f$ in that direction. Thus, curvature is a signed quantity. Curvature $c_1$ is a maximum of $c_1, c_2$ if $c_1 \\geq c_2$."
   ]
  },
  {
   "cell_type": "markdown",
   "metadata": {
    "tags": [
     "HST"
    ]
   },
   "source": [
    "### Problem 1.6"
   ]
  },
  {
   "cell_type": "markdown",
   "metadata": {
    "tags": [
     "HST"
    ]
   },
   "source": [
    "To check that your answers are plausible, write Python 3 code that displays a plot of 30 iso-value contours of the function $f$ for $-0.5 \\leq x \\leq 2.5$ and $-0.5 \\leq y \\leq 2.5$. Draw a red dot at every stationary point. "
   ]
  },
  {
   "cell_type": "markdown",
   "metadata": {
    "tags": [
     "H"
    ]
   },
   "source": [
    "#### Programming Notes\n",
    "\n",
    "The easiest way to make a contour plot is as follows (look up the online manuals for any function you are not familiar with):\n",
    "- Use `numpy.linspace` to make two equal vectors `x` and `y` each with, say, `n=101` points between `a=-0.5` and `b=2.5`\n",
    "- Use `numpy.meshgrid` to transform `x` and `y` into two $n\\times n$ arrays `X` and `Y` of $(x, y)$ coordinates in the square $[a, b]\\times[a, b]$\n",
    "- Use standard algebraic operations (`+`, `-`, `**`) on `X` and `Y` to compute an array `Z` with all the values $f(x, y)$. You can operate on the arrays directly, no `for` loops needed\n",
    "- Use `matplotlib.pyplot.figure` with keyword argument `figsize=(6, 6)` to make a square figure\n",
    "- Use `matplotlib.pyplot.contour` to draw the contour plot. Specify 30 contours as the last argument\n",
    "- Issue a `matplotlib.pyplot.show` command to close drawing to the current figure\n",
    "- _**Important**_: For `matplotlib.pyplot` functions to work correctly in a Jupyter notebook, add the line\n",
    "\n",
    "    `%matplotlib inline`\n",
    "    \n",
    "    after the command that imports the `matplotlib.pyplot` library"
   ]
  },
  {
   "cell_type": "markdown",
   "metadata": {
    "tags": [
     "HST"
    ]
   },
   "source": [
    "## Part 2: Linear Algebra"
   ]
  },
  {
   "cell_type": "markdown",
   "metadata": {
    "tags": [
     "H"
    ]
   },
   "source": [
    "You already did some linear algebra in part 1. Here is a bit more. In the following problems, let\n",
    "\n",
    "$$\n",
    "A = \\left[\\begin{array}{rrr}\n",
    "1 & 0 & 1 \\\\\n",
    "0 & 1 & -1 \\\\\n",
    "2 & 0 & 2 \\\\\n",
    "1 & 1 & 0\n",
    "\\end{array}\\right]\n",
    "$$\n",
    "\n",
    "be a matrix that represents a mapping $\\mathbb{R}^3 \\rightarrow \\mathbb{R}^4$."
   ]
  },
  {
   "cell_type": "markdown",
   "metadata": {
    "tags": [
     "HST"
    ]
   },
   "source": [
    "### Problem 2.1"
   ]
  },
  {
   "cell_type": "markdown",
   "metadata": {
    "tags": [
     "HST"
    ]
   },
   "source": [
    "Give four matrices $R$, $N$, $C$, $L$ whose _rows_ are bases for the row space, null space, column space (a.k.a. range), and left null space of $A$. Use rows or columns of $A$ for your basis vectors when possible, and vectors with integer entries in any case.\n",
    "\n",
    "As a partial check, give the products $AN^T$ and $L A$ (fully spelled out with all their entries)."
   ]
  },
  {
   "cell_type": "markdown",
   "metadata": {
    "tags": [
     "H"
    ]
   },
   "source": [
    "Multiple correct solutions are possible."
   ]
  },
  {
   "cell_type": "markdown",
   "metadata": {
    "tags": [
     "HST"
    ]
   },
   "source": [
    "### Problem 2.2"
   ]
  },
  {
   "cell_type": "markdown",
   "metadata": {
    "tags": [
     "HST"
    ]
   },
   "source": [
    "Give the set $S$ of _all_ solutions to the system\n",
    "\n",
    "$$\n",
    "A \\mathbf{x} = \\mathbf{0}\n",
    "$$\n",
    "\n",
    "where $A$ is the matrix above and $\\mathbf{0}$ is a column vector of four zeros."
   ]
  },
  {
   "cell_type": "markdown",
   "metadata": {
    "tags": [
     "HST"
    ]
   },
   "source": [
    "### Problem 2.3"
   ]
  },
  {
   "cell_type": "markdown",
   "metadata": {
    "tags": [
     "HST"
    ]
   },
   "source": [
    "Give the set $B$ of _all_ vectors $\\mathbf{b}$ for which the system\n",
    "\n",
    "$$\n",
    "A \\mathbf{x} = \\mathbf{b}\n",
    "$$\n",
    "\n",
    "admits a solution, if $A$ is the matrix above."
   ]
  },
  {
   "cell_type": "markdown",
   "metadata": {
    "tags": [
     "HST"
    ]
   },
   "source": [
    "## Part 3: Probability"
   ]
  },
  {
   "cell_type": "markdown",
   "metadata": {
    "tags": [
     "H"
    ]
   },
   "source": [
    "let $X$ be a scalar random variable with outcomes in the set $\\{0, 1, 2\\}$ and distribution\n",
    "\n",
    "\\begin{eqnarray*}\n",
    "p_0 &=& \\mathbb{P}(X = 0) = 0.3 \\\\\n",
    "p_1 &=& \\mathbb{P}(X = 1) = 0.5 \\\\\n",
    "p_2 &=& \\mathbb{P}(X = 2) = 0.2 \\;.\n",
    "\\end{eqnarray*}\n",
    "\n",
    "Let $Y$ be a scalar, real-valued Gaussian (a.k.a. normal) random variable with variance $\\sigma^2=4$, independently of $X$, and with mean conditioned on $X$ as follows:\n",
    "\n",
    "\\begin{eqnarray*}\n",
    "m_0 &=& \\mathbb{E}(Y \\,|\\, X = 0) = 6 \\\\\n",
    "m_1 &=& \\mathbb{E}(Y \\,|\\, X = 1) = 2 \\\\\n",
    "m_2 &=& \\mathbb{E}(Y \\,|\\, X = 2) = 5 \\;.\n",
    "\\end{eqnarray*}"
   ]
  },
  {
   "cell_type": "markdown",
   "metadata": {
    "tags": [
     "HST"
    ]
   },
   "source": [
    "### Problem 3.1"
   ]
  },
  {
   "cell_type": "markdown",
   "metadata": {
    "tags": [
     "HST"
    ]
   },
   "source": [
    "What are the mean $m_X$ and variance $\\sigma_X^2$ of $X$?"
   ]
  },
  {
   "cell_type": "markdown",
   "metadata": {
    "tags": [
     "HST"
    ]
   },
   "source": [
    "### Problem 3.2"
   ]
  },
  {
   "cell_type": "markdown",
   "metadata": {
    "tags": [
     "HST"
    ]
   },
   "source": [
    "What is the mean $m_Y$ of $Y$?"
   ]
  },
  {
   "cell_type": "markdown",
   "metadata": {
    "tags": [
     "HST"
    ]
   },
   "source": [
    "### Problem 3.3"
   ]
  },
  {
   "cell_type": "markdown",
   "metadata": {
    "tags": [
     "HST"
    ]
   },
   "source": [
    "What is the mean $m_{Y|X<2} = \\mathbb{E}(Y\\,|\\, X < 2)$ of $Y$ given that $X < 2$?"
   ]
  },
  {
   "cell_type": "markdown",
   "metadata": {
    "tags": [
     "H"
    ]
   },
   "source": [
    "Hint: This is not immediate. The safest course is to derive the answer from definitions and first principles.\n",
    "\n",
    "You are not asked to show your derivation. However, do show your reasoning if you are unsure, for possible partial credit."
   ]
  },
  {
   "cell_type": "markdown",
   "metadata": {
    "tags": [
     "HST"
    ]
   },
   "source": [
    "## Part 4: Python 3"
   ]
  },
  {
   "cell_type": "markdown",
   "metadata": {
    "tags": [
     "H"
    ]
   },
   "source": [
    "Problem 1.6 had you write a first snippet of Python 3 code. This part asks you write a bit more code, with an eye to familiarizing you with some features of `numpy` slicing and some simple aspects of image processing. Your Python 3 installation should include up-to-date versions of the `numpy` and `scikit-image` modules. It will, if you installed the latest Anaconda distribution as discussed earlier. "
   ]
  },
  {
   "cell_type": "markdown",
   "metadata": {
    "tags": [
     "H"
    ]
   },
   "source": [
    "The following code makes a `numpy` array of characters that contains the solution to the December 21, 2018 New York Times mini-crossword puzzle. This is a puzzle with 5 rows and 5 columns, and no empty cells. The code also prints the array."
   ]
  },
  {
   "cell_type": "code",
   "execution_count": 1,
   "metadata": {
    "tags": [
     "HST"
    ]
   },
   "outputs": [
    {
     "name": "stdout",
     "output_type": "stream",
     "text": [
      "[['m' 'a' 'r' 'c' 'o']\n",
      " ['o' 'n' 'e' 'u' 'p']\n",
      " ['s' 'k' 'a' 't' 'e']\n",
      " ['e' 'l' 'd' 'e' 'r']\n",
      " ['s' 'e' 'e' 'y' 'a']]\n"
     ]
    }
   ],
   "source": [
    "import numpy as np\n",
    "\n",
    "across = ['marco', 'oneup', 'skate', 'elder', 'seeya']\n",
    "puzzle = np.array([list(word) for word in across])\n",
    "print(puzzle)"
   ]
  },
  {
   "cell_type": "markdown",
   "metadata": {
    "tags": [
     "HST"
    ]
   },
   "source": [
    "### Problem 4.1"
   ]
  },
  {
   "cell_type": "markdown",
   "metadata": {
    "tags": [
     "H"
    ]
   },
   "source": [
    "The result of the `print` statement above is not very nice, and we would prefer the output to look like this:\n",
    "\n",
    "    marco\n",
    "    oneup\n",
    "    skate\n",
    "    elder\n",
    "    seeya\n",
    "    \n",
    "(with no blanks at the beginning of each line, and no blanks between lines). Let us call this a _pretty print_ of the array `puzzle`."
   ]
  },
  {
   "cell_type": "markdown",
   "metadata": {
    "tags": [
     "HST"
    ]
   },
   "source": [
    "Write a function with header\n",
    "\n",
    "    def prettyPrint(p):\n",
    "    \n",
    "that pretty-prints any _nonempty_ array like `puzzle` according to the given specifications. Show your code and the result of pretty-printing the given array `puzzle`."
   ]
  },
  {
   "cell_type": "markdown",
   "metadata": {
    "tags": [
     "H"
    ]
   },
   "source": [
    "#### Specifications\n",
    "\n",
    "- Your code should not assume a specific number of rows or columns.\n",
    "- Your code should assume that the puzzle is a two-dimensional array, even when it has only one row or only one column. This is enforced by starting the body of your function with the following assertion:\n",
    "\n",
    ">`assert p.ndim == 2, 'Puzzle must have two dimensions'`\n",
    "    \n",
    "- Your code should output an empty line after printing the whole puzzle. In this way, if you print multiple puzzles, they are separated by empty lines. (This is not good practice in general, but simplifies your work for this assignment.)\n",
    "\n",
    "- Your code should be concise. As a reference, the body of my function has four lines, including the `assert`. Slightly longer than that is OK, but don't push it (and don't ask \"how long is short enough?\").\n"
   ]
  },
  {
   "cell_type": "markdown",
   "metadata": {
    "tags": [
     "HST"
    ]
   },
   "source": [
    "### Problem 4.2"
   ]
  },
  {
   "cell_type": "markdown",
   "metadata": {
    "tags": [
     "HST"
    ]
   },
   "source": [
    "Write four calls to `prettyPrint` that slice the given array `puzzle` to result in the following output:\n",
    "\n",
    "    mar\n",
    "    one\n",
    "\n",
    "    der\n",
    "    eya\n",
    "\n",
    "    marco\n",
    "\n",
    "    o\n",
    "    p\n",
    "    e\n",
    "    r\n",
    "    a\n",
    " \n",
    "Your code should comply with the given specifications. Show code and output."
   ]
  },
  {
   "cell_type": "markdown",
   "metadata": {
    "tags": [
     "H"
    ]
   },
   "source": [
    "#### Specifications\n",
    "- Your code should be exactly four lines, in the correct order.\n",
    "- Your calls should be as succinct as possible. For instance, do not specify slice endpoints that are equal to default values explicitly: Instead, let Python figure out the default value. For instance, `puzzle[0:4]` would be redundant in many ways (try that).\n",
    "- When some of the outputs above involve the last one or two rows or columns of `puzzle`, your call should specify those rows or columns counting from the end backwards (with negative subscripts), not from the beginning. In other words, assume that you don't know that the puzzle has 5 rows and 5 columns."
   ]
  },
  {
   "cell_type": "markdown",
   "metadata": {
    "tags": [
     "H"
    ]
   },
   "source": [
    "#### Programming Note\n",
    "\n",
    "If you take a slice that results in a vector, `numpy` makes no distinction between row and column, and the slice results in a one-dimensional array. This would then not pass the `assert` in `prettyPrint`, which expects two dimensions. To turn the slice into a two-dimensional array, use `numpy.expand_dims` to add the appropriate singleton dimension. That is, use this function to convert a one-dimensional $n$-vector into a $n\\times 1$ or a $1\\times n$ (two-dimensional) array, as appropriate."
   ]
  },
  {
   "cell_type": "markdown",
   "metadata": {
    "tags": [
     "HST"
    ]
   },
   "source": [
    "### Problem 4.3"
   ]
  },
  {
   "cell_type": "markdown",
   "metadata": {
    "tags": [
     "H"
    ]
   },
   "source": [
    "And now a modicum of image processing, to familiarize yourself with some basic Python 3 commands for this purpose. An image `locomotive.jpg` is provided with the assignment. This image file should be in the same folder as your notebook.\n",
    "\n",
    "The function `readGray` defined below reads an image from a file with the name provided as argument, converts it to black-and-white (which results in floating-point pixel values between 0 and 1), scales and rounds its pixel values to integers in [0, 255], and casts the result to pixels with type `np.uint8` (8-bit unsigned integers).\n",
    "\n",
    "The code after that loads and displays a test image."
   ]
  },
  {
   "cell_type": "code",
   "execution_count": 2,
   "metadata": {
    "tags": [
     "HST"
    ]
   },
   "outputs": [
    {
     "data": {
      "image/png": "[encoded data removed]",
      "text/plain": [
       "<Figure size 432x288 with 1 Axes>"
      ]
     },
     "metadata": {},
     "output_type": "display_data"
    }
   ],
   "source": [
    "from skimage import io, color\n",
    "\n",
    "def readGray(filename):\n",
    "    img = color.rgb2gray(io.imread(filename))\n",
    "    return np.around(255 * img).astype(np.uint8)\n",
    "\n",
    "from matplotlib import pyplot as plt\n",
    "%matplotlib inline\n",
    "\n",
    "img = readGray('locomotive.jpg')\n",
    "plt.imshow(img, cmap='gray')\n",
    "plt.show()"
   ]
  },
  {
   "cell_type": "markdown",
   "metadata": {
    "tags": [
     "HST"
    ]
   },
   "source": [
    "Write a function with header\n",
    "\n",
    "    def cumulative(img):\n",
    "    \n",
    "that takes an image as produced by `readGray` and computes its cumulative distribution $c(k)$. Show your code, and plot the cumulative histogram of the image in `locomotive.jpg` as read by `readGray`."
   ]
  },
  {
   "cell_type": "markdown",
   "metadata": {
    "tags": [
     "H"
    ]
   },
   "source": [
    "For $k = 0, \\ldots, 255$, the real number $c(k)$ is between 0 and 1, and specifies the fraction of pixels in `img` whose value is at most $k$.\n",
    "\n",
    "You should write this function \"from scratch,\" that is, without using any library function that computes histograms or cumulative histograms or effectively equivalent data structures."
   ]
  },
  {
   "cell_type": "markdown",
   "metadata": {
    "tags": [
     "HST"
    ]
   },
   "source": [
    "### Problem 4.4"
   ]
  },
  {
   "cell_type": "markdown",
   "metadata": {
    "tags": [
     "HST"
    ]
   },
   "source": [
    "If your cumulative distribution is correct, the plot should start with several values $c(k)$ equal to zero.\n",
    "\n",
    "What do these zero values mean? In particular, how do these zeros manifest themselves visually in the image?"
   ]
  },
  {
   "cell_type": "markdown",
   "metadata": {
    "tags": [
     "HST"
    ]
   },
   "source": [
    "### Problem 4.5"
   ]
  },
  {
   "cell_type": "markdown",
   "metadata": {
    "tags": [
     "HST"
    ]
   },
   "source": [
    "Write a function with header\n",
    "\n",
    "    def remap(img):\n",
    "    \n",
    "that takes an image as returned by `readGray` and replaces the value $k$ of every pixel with value $k' = \\text{round}(255\\, c(k))$, where the function $c(k)$ was defined in problem 4.3.\n",
    "\n",
    "Show your code, display the result of running `remap` on the image in `locomotive.jpg`, and plot the cumulative histogram of the remapped image."
   ]
  },
  {
   "cell_type": "markdown",
   "metadata": {
    "tags": [
     "H"
    ]
   },
   "source": [
    "Make sure that `remap` outputs an image with pixels of type `np.uint8`. For instance, to make an image `b` of zeros with the same size and type as another image `a` you can say\n",
    "\n",
    "    b = np.zeros_like(a)"
   ]
  },
  {
   "cell_type": "markdown",
   "metadata": {
    "tags": [
     "HST"
    ]
   },
   "source": [
    "### Problem 4.6"
   ]
  },
  {
   "cell_type": "markdown",
   "metadata": {
    "tags": [
     "HST"
    ]
   },
   "source": [
    "Comment on the result. In particular, what would the _histogram_ (rather than the cumulative distribution) of the remapped image look like, approximately? And in what way does the remapped _image_ differ from the original, visually?"
   ]
  }
 ],
 "metadata": {
  "kernelspec": {
   "display_name": "Python 3",
   "language": "python",
   "name": "python3"
  },
  "language_info": {
   "codemirror_mode": {
    "name": "ipython",
    "version": 3
   },
   "file_extension": ".py",
   "mimetype": "text/x-python",
   "name": "python",
   "nbconvert_exporter": "python",
   "pygments_lexer": "ipython3",
   "version": "3.7.1"
  }
 },
 "nbformat": 4,
 "nbformat_minor": 2
}
