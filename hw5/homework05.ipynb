{
 "cells": [
  {
   "cell_type": "markdown",
   "metadata": {
    "colab_type": "text",
    "id": "_4pJohDkIbwu",
    "tags": [
     "T"
    ]
   },
   "source": [
    "> **Student Names and IDs**:\n",
    ">\n",
    "> Yiteng Lu (2488152)\n",
    "> Wenge Xie(2466824)\n",
    "> Zengtian Deng (2207324)"
   ]
  },
  {
   "cell_type": "markdown",
   "metadata": {
    "colab_type": "text",
    "id": "93F4Xn6mIbww",
    "tags": [
     "HST"
    ]
   },
   "source": [
    "# Homework 5"
   ]
  },
  {
   "cell_type": "markdown",
   "metadata": {
    "colab_type": "text",
    "id": "aymIv7MFIbwz",
    "tags": [
     "HST"
    ]
   },
   "source": [
    "## Homework Submission Workflow\n",
    "\n",
    "When you submit your work, follow the instructions on the [submission workflow page](https://www.cs.duke.edu/courses/fall18/compsci371d/homework/workflow.html) for full credit, but see the changes mentioned below.\n",
    "\n",
    "**Important: Failure to do any of the following will result in lost points:**\n",
    "\n",
    "- Submit **one** PDF file and **one** notebook per group\n",
    "\n",
    "- Enter **all the group members** through the Gradescope GUI when you submit your PDF files. It is **not** enough to list group members in your documents\n",
    "\n",
    "- Match each **answer** (not question!) with the appropriate page in Gradescope\n",
    "\n",
    "- Avoid large blank spaces in your PDF file\n",
    "\n",
    "**Important changes to homework preparation workflow:** _This assignment is different from the others in that you are required to run it on the Google Colaboratory, a cloud service that Google makes available for reseach in machine learning. This is necessary because some of the problems require you to train a deep network on hardware that is faster than what is typically available on a standard laptop or desktop, including a high-end GPU. Even if you do have a high-end GPU, please run your notebook on the Colaboratory, so we can grade your work consistently._\n",
    "\n",
    "_**To work on this assignment, go to the [Colaboratory](https://colab.research.google.com) and upload the template notebook for this assignment through the `File` menu at the top of the Colaboratory page. Then work on the assignment, making sure to pay attention to instructions in Part 4 where you are asked to change the runtime type.**_\n",
    "\n",
    "_**When you are done, download the notebook (after making sure that all the outputs from running the code show up properly), and proceed as usual to turn that notebook into a PDF file for submission.**_\n",
    "\n",
    "#### Programming Notes\n",
    "\n",
    "+ The Colaboratory is a cloud service. If a notebook sits idle for a long time, it automatically disconnects from its execution kernel, and you need to rerun all the cells.\n",
    "+ Some of the cells in the Part on neural networks are to be run with different runtime types, as explained later. Because of this, you will not be able to just restart the notebook and run all its cells with a single command. Instead, you need to run the cells one at a time, changing runtime type as instructed. Make sure you do this once you are done with the assignment, making sure that the output from your code matches the text where you describe that output.\n",
    "+ Depending on circumstances, changing the runtime type may erase some or all of the notebook state. This will require you to rerun the cells that generate state.\n",
    "+ Training depends on random initialization of the network parameters. Because of this, your results may vary relative to the sample solution, even if your code is no different. Results may also vary from run to run."
   ]
  },
  {
   "cell_type": "markdown",
   "metadata": {
    "colab_type": "text",
    "id": "gIp6dzlwIbw0",
    "tags": [
     "HST"
    ]
   },
   "source": [
    "## Part 1: Exam-Style Questions, Set 1"
   ]
  },
  {
   "cell_type": "markdown",
   "metadata": {
    "colab_type": "text",
    "id": "6o90sGDiK4aF",
    "tags": [
     "HST"
    ]
   },
   "source": [
    "The small neural net in the figure below uses the ReLU as the nonlinearity at the output of each neuron. The values specified in the hollow circles are biases, and the values along the edges are gains. Weigths number 1, 2, 3 refer to the first neuron, 4, 5,6 to the second, 7, 8, 9 to the third."
   ]
  },
  {
   "cell_type": "markdown",
   "metadata": {
    "colab_type": "text",
    "id": "CakDYmy0Mk13",
    "tags": [
     "HST"
    ]
   },
   "source": [
    "![a simple neural network](https://www2.cs.duke.edu/courses/spring19/compsci527/homework/5/netSimple.png)"
   ]
  },
  {
   "cell_type": "markdown",
   "metadata": {
    "colab_type": "text",
    "id": "tdrtWLQ5JZ7q",
    "tags": [
     "HST"
    ]
   },
   "source": [
    "### Problem 1.1"
   ]
  },
  {
   "cell_type": "markdown",
   "metadata": {
    "colab_type": "text",
    "id": "CacoODWaJdmL",
    "tags": [
     "HST"
    ]
   },
   "source": [
    "Are all the layers in the net above fully connected?"
   ]
  },
  {
   "cell_type": "markdown",
   "metadata": {
    "colab_type": "text",
    "id": "WJ9w1-GpN1FM",
    "tags": [
     "ST"
    ]
   },
   "source": [
    "### Answer\n",
    "Yes"
   ]
  },
  {
   "cell_type": "markdown",
   "metadata": {
    "colab_type": "text",
    "id": "4o_0Co16OJ-v",
    "tags": [
     "HST"
    ]
   },
   "source": [
    "### Problem 1.2"
   ]
  },
  {
   "cell_type": "markdown",
   "metadata": {
    "colab_type": "text",
    "id": "WmVrDJydN7OP",
    "tags": [
     "HST"
    ]
   },
   "source": [
    "What is the output $y$ from the net above when the input is as follows?\n",
    "\n",
    "$$\n",
    "x_1 = 0 \\;\\;\\; \\text{and}\\;\\;\\; x_2 = 3\n",
    "$$"
   ]
  },
  {
   "cell_type": "markdown",
   "metadata": {
    "colab_type": "text",
    "id": "G-LZGjFMORa8",
    "tags": [
     "ST"
    ]
   },
   "source": [
    "### Answer\n",
    "4"
   ]
  },
  {
   "cell_type": "markdown",
   "metadata": {
    "colab_type": "text",
    "id": "rP4qW1wUQapl",
    "tags": [
     "HST"
    ]
   },
   "source": [
    "### Problem 1.3"
   ]
  },
  {
   "cell_type": "markdown",
   "metadata": {
    "colab_type": "text",
    "id": "2WZXG8wNQeJ5",
    "tags": [
     "HST"
    ]
   },
   "source": [
    "What is the gradient $\\mathbf{g}$ of the output $y$ of the network above with respect to the weight vector\n",
    "\n",
    "$$\n",
    "\\mathbf{w} = [w_1,\\ w_2,\\ w_3,\\ w_4,\\ w_5,\\ w_6,\\ w_7,\\ w_8,\\ w_9]^T\n",
    "$$\n",
    "\n",
    "when the input has the values given in the previous problem? Just give the result if you are confident of your answer."
   ]
  },
  {
   "cell_type": "markdown",
   "metadata": {
    "colab_type": "text",
    "id": "5fVXbN93RDq7",
    "tags": [
     "ST"
    ]
   },
   "source": [
    "### Answer\n",
    "$\\mathbf{w} = [0,0,0,0,3,1,0,3,1]$"
   ]
  },
  {
   "cell_type": "markdown",
   "metadata": {
    "colab_type": "text",
    "id": "j_-dO56ledsy",
    "tags": [
     "HST"
    ]
   },
   "source": [
    "## Part 2: Exam-Style Questions, Set 2\n",
    "\n",
    "\n"
   ]
  },
  {
   "cell_type": "markdown",
   "metadata": {
    "colab_type": "text",
    "id": "CWV3624YZjhu",
    "tags": [
     "HST"
    ]
   },
   "source": [
    "Let $\\mathbf{p} = f(\\mathbf{x})$ be the output of the network's soft-max layer of some neural network classifier with $K$ layers when the network's input is $\\mathbf{x}$. The classifier's output is then\n",
    "\n",
    "$$\n",
    "\\hat{y} = \\arg\\max \\mathbf{p}\\;.\n",
    "$$\n",
    "\n",
    "If $y_n$ is the true label corresponding to training input $\\mathbf{x}_n$, the loss is $\\ell_n = \\ell(y_n, f(\\mathbf{x}_n))$ for some appropriate loss function $\\ell(y, \\mathbf{p})$.\n",
    "\n",
    "We saw in class that if $\\mathbf{x}^{(k)}$ is the output from layer $k$ and $\\mathbf{w}^{(k)}$ is a vector with all the parameters in layer $k$, then back-propagation computes the partial derivatives by the following recursion,  where $\\mathbf{x}^{(0)} = \\mathbf{x}$ is the input to the network and $\\mathbf{x}^{(K)} = \\mathbf{p}$:\n",
    "\n",
    "\\begin{eqnarray*}\n",
    "\\frac{\\partial \\ell_n}{\\partial \\mathbf{w}^{(k)}} &=& \\frac{\\partial \\ell_n}{\\partial \\mathbf{x}^{(k)}} \\frac{\\partial \\mathbf{x}^{(k)}}{\\partial \\mathbf{w}^{(k)}}\n",
    "\\;\\;\\;\\text{for}\\;\\;\\; k = K,\\ldots, 1 \\\\\n",
    "\\frac{\\partial \\ell_n}{\\partial \\mathbf{x}^{(k-1)}} &=& \\frac{\\partial \\ell_n}{\\partial \\mathbf{x}^{(k)}} \\frac{\\partial \\mathbf{x}^{(k)}}{\\partial \\mathbf{x}^{(k-1)}}\n",
    "\\;\\;\\;\\text{for}\\;\\;\\; k = K,\\ldots, 2\\\\\n",
    "\\frac{\\partial \\ell_n}{\\partial \\mathbf{x}^{(K)}} &=& \\frac{\\partial \\ell}{\\partial \\mathbf{p}}\n",
    "\\end{eqnarray*}\n",
    "\n",
    "The derivatives above are computed for the $n$-th training sample $(\\mathbf{x}_n, y_n)$ and for the values of $\\mathbf{w}^{(k)}$ that are current at any given point during training."
   ]
  },
  {
   "cell_type": "markdown",
   "metadata": {
    "colab_type": "text",
    "id": "cNK7pnfDesaH",
    "tags": [
     "HST"
    ]
   },
   "source": [
    "### Problem 2.1"
   ]
  },
  {
   "cell_type": "markdown",
   "metadata": {
    "colab_type": "text",
    "id": "vY-vJZ_Peu9c",
    "tags": [
     "HST"
    ]
   },
   "source": [
    "Suppose that the network has only fully-connected layers (with ReLU nonlinearities) before the soft-max. Refer in detail to the equations given above to explain clearly why training would not work if the parameter vector $\\mathbf{w} = [\\mathbf{w}^{(1)},\\ldots, \\mathbf{w}^{(K)}]^T$ is initialized with zeros for training."
   ]
  },
  {
   "cell_type": "markdown",
   "metadata": {
    "colab_type": "text",
    "id": "I5CVu5NXhUpK",
    "tags": [
     "ST"
    ]
   },
   "source": [
    "### Answer\n",
    "Since every $\\mathbf{w}$ is initialized to 0, every layer would have 0 zeros for output, which means the each layer always have the same ouput, making the gradient of $\\cfrac{\\partial \\mathbf{x}^{(k)}}{\\partial \\mathbf{x}^{(k-1)}} $ the same and equal to 0 as well, thus $\\frac{\\partial \\mathcal{l_n}}{\\partial \\mathbf{x}^{(k)}} \\frac{\\partial \\mathbf{x}^{(k)}}{\\partial \\mathbf{w}^{(k)}}\n",
    "\\;\\;\\;\\text{for} \\;\\;\\; k = K,\\ldots, 1$ equals 0 , then the weights will not update.  \n"
   ]
  },
  {
   "cell_type": "markdown",
   "metadata": {
    "colab_type": "text",
    "id": "2Vx-msEHjfdn",
    "tags": [
     "HST"
    ]
   },
   "source": [
    "### Problem 2.2"
   ]
  },
  {
   "cell_type": "markdown",
   "metadata": {
    "colab_type": "text",
    "id": "NJnaTzLfjiGt",
    "tags": [
     "HST"
    ]
   },
   "source": [
    "A neural net classifier with only fully-connected layers (with ReLU nonlinearities) and a soft-max layer at its output has parameter vector $\\mathbf{w}$, and the network implements the function $f(\\mathbf{x}, \\mathbf{w})$ for any network input $\\mathbf{x}$. Is $\\mathbf{w} = \\mathbf{0}$ a stationary point for the function $\\phi(\\mathbf{w}) = f(\\mathbf{x}, \\mathbf{w})$ when $\\mathbf{x}$ is fixed? Justify your answer."
   ]
  },
  {
   "cell_type": "markdown",
   "metadata": {
    "colab_type": "text",
    "id": "OxjAkNkzkDHo",
    "tags": [
     "ST"
    ]
   },
   "source": [
    "### Answer\n",
    "Yes. \n",
    "Assume $ \\tilde{\\mathbf{x}} = [\\mathbf{x} ,1 ]$\n",
    "<br>\n",
    "$f(\\mathbf{x},\\mathbf{w}) =\\text{softmax}(\\mathbf{w}^{K}max({\\mathbf{w}^{K-1}} ...max(\\mathbf{w}^1\\mathbf{x},0),0),0)$ \n",
    "since $\\mathbf{w}  = \\bf{0} $\n",
    "<br>\n",
    "Any partial deraviative with respect to $\\bf{w}$ would be multiple zeros as stated in the first problem. \n",
    "<br>\n",
    "Therefore, $\\phi^{'}{(\\bf{w})} = \\bf{0}$ \n",
    ",$\\bf{w= 0} $ is a stationary point. "
   ]
  },
  {
   "cell_type": "markdown",
   "metadata": {
    "colab_type": "text",
    "id": "Rla5OsKGk1zi",
    "tags": [
     "HST"
    ]
   },
   "source": [
    "### Problem 2.3"
   ]
  },
  {
   "cell_type": "markdown",
   "metadata": {
    "colab_type": "text",
    "id": "lE3Uoh6Hk5jp",
    "tags": [
     "HST"
    ]
   },
   "source": [
    "Stochastic gradient descent with momentum is used to train a certain neural network with $m$ parameters. Just before iteration $t$ of training is performed, the parameter vector has value $\\mathbf{w}_t$, and the velocity (or step) is $\\mathbf{v}_t = \\mathbf{a}$, where $\\mathbf{a}$ is some nonzero vector in $\\mathbb{R}^m$ (refer to the class notes for notation). The momentum coefficient is kept constant at $\\mu = 0.9$ throughout training. If the risk function has a saddle point at $\\mathbf{w}_t$, what is the step $\\mathbf{v}_{t+1}$ at iteration $t$?"
   ]
  },
  {
   "cell_type": "markdown",
   "metadata": {
    "colab_type": "text",
    "id": "qTU6DAPRn1hN",
    "tags": [
     "ST"
    ]
   },
   "source": [
    "### Answer\n",
    "$\\mathbf{v}_{t+1} =0.9\\mathbf{a}$"
   ]
  },
  {
   "cell_type": "markdown",
   "metadata": {
    "colab_type": "text",
    "id": "QwMq7SK4nFwU",
    "tags": [
     "HST"
    ]
   },
   "source": [
    "### Problem 2.4"
   ]
  },
  {
   "cell_type": "markdown",
   "metadata": {
    "colab_type": "text",
    "id": "iEaE7twinHyl",
    "tags": [
     "HST"
    ]
   },
   "source": [
    "A friend of yours argues that in the situation described in the previous problem, the steps after iteration $t$ decay exponentially. Her argument is based on the fact that the risk is at a saddle point at $\\mathbf{w}_t$, and the momentum coefficient is constant, so that $\\mathbf{v}_{t+\\tau} = \\mu^{\\tau}\\mathbf{a}$, an exponential decay. Explain why your friend's argument is wrong."
   ]
  },
  {
   "cell_type": "markdown",
   "metadata": {
    "colab_type": "text",
    "id": "mA05ns5Unt_6",
    "tags": [
     "ST"
    ]
   },
   "source": [
    "### Answer\n",
    "Because we use stochastic gradient descent, even if the weights are stucked in a saddle point which means $\\mathbf{w}_{t+1}$ will get updated, therefore it will not stuck in the saddle point all the time, which means, after few iterations, the gradient of the function will not be 0 any more. This will bring an ectra term into the $\\mathbf{v}$ equation, and make it to be $\\mathbf{v}_{t+1} = \\mu a - \\triangledown\\frac{\\partial \\mathcal{l}}{\\partial\\mathbf{w}}$. So, it will not decay exponentially."
   ]
  },
  {
   "cell_type": "markdown",
   "metadata": {
    "colab_type": "text",
    "id": "lfRyRIt3qCoz",
    "tags": [
     "HST"
    ]
   },
   "source": [
    "### Problem 2.5"
   ]
  },
  {
   "cell_type": "markdown",
   "metadata": {
    "colab_type": "text",
    "id": "RWfz9zLXqFAV",
    "tags": [
     "HST"
    ]
   },
   "source": [
    "In the situation described in Problem 2.3, will the training algorithm always eventually converge back towards $\\mathbf{w}_t$? Explain your answer briefly and clearly."
   ]
  },
  {
   "cell_type": "markdown",
   "metadata": {
    "colab_type": "text",
    "id": "zv-spO4mqZcT",
    "tags": [
     "ST"
    ]
   },
   "source": [
    "### Answer\n",
    "It will not always get the saddle point since we are using the stochastic gradient descent, it may go back to saddle point depends on the real-time gradient it sits on after it passes the saddle point at $t+1$  but it will not always converge back to $\\bf{w}_t$."
   ]
  },
  {
   "cell_type": "markdown",
   "metadata": {
    "colab_type": "text",
    "id": "5AMarkOTyVt3",
    "tags": [
     "HST"
    ]
   },
   "source": [
    "## Part 3: Exam-Style Questions, Set 3"
   ]
  },
  {
   "cell_type": "markdown",
   "metadata": {
    "colab_type": "text",
    "id": "74EwMXGkyYgz",
    "tags": [
     "HST"
    ]
   },
   "source": [
    "The following problems take you through the computation of the set of all least-squares solutions to the following linear system:\n",
    "\n",
    "\\begin{eqnarray*}\n",
    "3x + 4y &=& 2\\\\\n",
    "3x + 4y &=& 3\n",
    "\\end{eqnarray*}\n",
    "\n",
    "and the solutions to a related optimization problem.\n",
    "All the answers to the questions in this problem are numerical and exact. They refer only to the data given in the problem, and no more general answers are required. You may leave your answers in the form of fractions, with expressions like the following:\n",
    "\n",
    "$$\n",
    "\\frac{\\sqrt{3}}{2} \\left[\\begin{array}{c} 2\\\\-5\\end{array}\\right]\\;,\n",
    "$$\n",
    "\n",
    "but please simplify as much as possible.\n",
    "\n",
    "_As usual, it is easiest to answer these questions using software (and perhaps guess the exact values from the approximate ones output by your code). However, this would rob you of the opportunity to understand this material and to practice for the exam. **In any event, no answers will be accepted to problems in this part that embed software in your submission.**_\n"
   ]
  },
  {
   "cell_type": "markdown",
   "metadata": {
    "colab_type": "text",
    "id": "ac8j8SGdzDr9",
    "tags": [
     "HST"
    ]
   },
   "source": [
    "### Problem 3.1"
   ]
  },
  {
   "cell_type": "markdown",
   "metadata": {
    "colab_type": "text",
    "id": "9R-zasYizH16",
    "tags": [
     "HST"
    ]
   },
   "source": [
    "What are $A$ and $\\mathbf{b}$ if we write the system in this problem in the following form?\n",
    "$$\n",
    "A \\mathbf{x} = \\mathbf{b}\n",
    "$$"
   ]
  },
  {
   "cell_type": "markdown",
   "metadata": {
    "colab_type": "text",
    "id": "v6jJC2xuzKS5",
    "tags": [
     "ST"
    ]
   },
   "source": [
    "### Answer\n",
    "$$\\bf{A} = \\begin{bmatrix} 3 \\; \\; 4  \\\\ 3 \\; \\; 4 \\end{bmatrix} \\; \\; \\bf{b} = \\begin{bmatrix} 2 \\\\ 3 \\end{bmatrix}$$"
   ]
  },
  {
   "cell_type": "markdown",
   "metadata": {
    "colab_type": "text",
    "id": "eJoEvX1bzPDh",
    "tags": [
     "HST"
    ]
   },
   "source": [
    "### Problem 3.2"
   ]
  },
  {
   "cell_type": "markdown",
   "metadata": {
    "colab_type": "text",
    "id": "zA4CavTxzReO",
    "tags": [
     "HST"
    ]
   },
   "source": [
    "What is the rank of $A$?"
   ]
  },
  {
   "cell_type": "markdown",
   "metadata": {
    "colab_type": "text",
    "id": "aplEQX65zUHW",
    "tags": [
     "ST"
    ]
   },
   "source": [
    "### Answer\n",
    "1"
   ]
  },
  {
   "cell_type": "markdown",
   "metadata": {
    "colab_type": "text",
    "id": "KOrmLSUVzWM6",
    "tags": [
     "HST"
    ]
   },
   "source": [
    "### Problem 3.3"
   ]
  },
  {
   "cell_type": "markdown",
   "metadata": {
    "colab_type": "text",
    "id": "MUH5dslBzapt",
    "tags": [
     "HST"
    ]
   },
   "source": [
    "Give a _unit_ column vector $\\mathbf{r}$ that spans the row space of $A$."
   ]
  },
  {
   "cell_type": "markdown",
   "metadata": {
    "colab_type": "text",
    "id": "p7vpRTgKzfEi",
    "tags": [
     "ST"
    ]
   },
   "source": [
    "### Answer\n",
    "$\\bf{r} = \\frac{1}{5}\\begin{bmatrix}3 \\\\ 4\\end{bmatrix}$"
   ]
  },
  {
   "cell_type": "markdown",
   "metadata": {
    "colab_type": "text",
    "id": "DbW0YgUWzjQc",
    "tags": [
     "HST"
    ]
   },
   "source": [
    "### Problem 3.4"
   ]
  },
  {
   "cell_type": "markdown",
   "metadata": {
    "colab_type": "text",
    "id": "q6kAPv09zlWk",
    "tags": [
     "HST"
    ]
   },
   "source": [
    "Give a _unit_ column vector $\\mathbf{n}$ that spans the null space of $A$."
   ]
  },
  {
   "cell_type": "markdown",
   "metadata": {
    "colab_type": "text",
    "id": "23yZJ6GCzo2K",
    "tags": [
     "ST"
    ]
   },
   "source": [
    "### Answer\n",
    "$\\bf{r} = \\frac{1}{5}\\begin{bmatrix}-4 \\\\ 3\\end{bmatrix}$"
   ]
  },
  {
   "cell_type": "markdown",
   "metadata": {
    "colab_type": "text",
    "id": "nOm2a0USzwU0",
    "tags": [
     "HST"
    ]
   },
   "source": [
    "### Problem 3.5"
   ]
  },
  {
   "cell_type": "markdown",
   "metadata": {
    "colab_type": "text",
    "id": "cMNnKIARzyfL",
    "tags": [
     "HST"
    ]
   },
   "source": [
    "Write the matrix $V$ in the SVD $A = U\\Sigma V^T$ of $A$."
   ]
  },
  {
   "cell_type": "markdown",
   "metadata": {
    "colab_type": "text",
    "id": "c7U8WqRUz0ct",
    "tags": [
     "ST"
    ]
   },
   "source": [
    "### Answer\n",
    "$V = \\begin{bmatrix} \\frac{3}{5}  \\; -\\frac{4} \n",
    "{5} \\\\\n",
    "\\frac{4}{5}  \\; \\;\\;\\;\\; \\frac{3}{5} \\end{bmatrix}$"
   ]
  },
  {
   "cell_type": "markdown",
   "metadata": {
    "colab_type": "text",
    "id": "zk41d7sBz5GS",
    "tags": [
     "HST"
    ]
   },
   "source": [
    "### Problem 3.6"
   ]
  },
  {
   "cell_type": "markdown",
   "metadata": {
    "colab_type": "text",
    "id": "ZK3cYMIkz7Jc",
    "tags": [
     "HST"
    ]
   },
   "source": [
    "Compute the matrices $U$ and $\\Sigma$ in the SVD of $A$. [Hint: compute $U\\Sigma$ first.]"
   ]
  },
  {
   "cell_type": "markdown",
   "metadata": {
    "colab_type": "text",
    "id": "T3ZNlDaUz9gQ",
    "tags": [
     "ST"
    ]
   },
   "source": [
    "### Answer\n",
    "$U = \\frac{1}{\\sqrt{2}} \\begin{bmatrix} 1 \\; -1 \\\\ 1 \\; \\; \\;\\; 1\\end{bmatrix},    \\Sigma =  \\begin{bmatrix} \\sqrt{50} \\;  \\; \\; 0 \\\\ \\; \\; \\; 0 \\;  \\; \\; \\; \\;0  \\end{bmatrix}$"
   ]
  },
  {
   "cell_type": "markdown",
   "metadata": {
    "colab_type": "text",
    "id": "xHCt-FvH0FDT",
    "tags": [
     "HST"
    ]
   },
   "source": [
    "### Problem 3.7"
   ]
  },
  {
   "cell_type": "markdown",
   "metadata": {
    "colab_type": "text",
    "id": "EhxCKF6U0HwH",
    "tags": [
     "HST"
    ]
   },
   "source": [
    "Compute the pseudo-inverse $A^{\\dagger}$ of $A$."
   ]
  },
  {
   "cell_type": "markdown",
   "metadata": {
    "colab_type": "text",
    "id": "63rXWdST0KZN",
    "tags": [
     "ST"
    ]
   },
   "source": [
    "### Answer"
   ]
  },
  {
   "cell_type": "markdown",
   "metadata": {
    "colab_type": "text",
    "id": "IBzmlRmoUN2h"
   },
   "source": [
    "$A^{\\dagger} =\\frac{1}{50} \\begin{bmatrix} 3 \\; 3 \\\\4 \\;  4\\end{bmatrix} $"
   ]
  },
  {
   "cell_type": "markdown",
   "metadata": {
    "colab_type": "text",
    "id": "hllY12AA0PKi",
    "tags": [
     "HST"
    ]
   },
   "source": [
    "### Problem 3.8"
   ]
  },
  {
   "cell_type": "markdown",
   "metadata": {
    "colab_type": "text",
    "id": "MnjLAWvt0Q06",
    "tags": [
     "HST"
    ]
   },
   "source": [
    "Find the minimum-norm least-squares solution $\\mathbf{x}^*$ of the system $A\\mathbf{x} = \\mathbf{b}$."
   ]
  },
  {
   "cell_type": "markdown",
   "metadata": {
    "colab_type": "text",
    "id": "2RgECzBj0TVw",
    "tags": [
     "ST"
    ]
   },
   "source": [
    "### Answer\n",
    "$\\bf{x}^*=\\frac{1}{10}\\begin{bmatrix}3 \\\\ 4 \\end{bmatrix}$"
   ]
  },
  {
   "cell_type": "markdown",
   "metadata": {
    "colab_type": "text",
    "id": "MDz6wROp0ZIr",
    "tags": [
     "HST"
    ]
   },
   "source": [
    "### Problem 3.9"
   ]
  },
  {
   "cell_type": "markdown",
   "metadata": {
    "colab_type": "text",
    "id": "0P5mlHPz0bTA",
    "tags": [
     "HST"
    ]
   },
   "source": [
    "Give an expression for the set $S$ of all least-squares solutions of the system $A\\mathbf{x} = \\mathbf{b}$."
   ]
  },
  {
   "cell_type": "markdown",
   "metadata": {
    "colab_type": "text",
    "id": "K2ZKErfi0dwK",
    "tags": [
     "ST"
    ]
   },
   "source": [
    "### Answer\n",
    "$ S = \\frac{1}{10}\\begin{bmatrix}3 \\\\ 4 \\end{bmatrix} + \\alpha\\begin{bmatrix}-4 \\\\ 3\\end{bmatrix}$ for $\\alpha \\in R$"
   ]
  },
  {
   "cell_type": "markdown",
   "metadata": {
    "colab_type": "text",
    "id": "8vQg6So00ij9",
    "tags": [
     "HST"
    ]
   },
   "source": [
    "### Problem 3.10\n"
   ]
  },
  {
   "cell_type": "markdown",
   "metadata": {
    "colab_type": "text",
    "id": "ghlx7z5s0lkG",
    "tags": [
     "HST"
    ]
   },
   "source": [
    "Find all the solutions to\n",
    "\n",
    "$$\n",
    " \\hat{\\mathbf{x}} = \\arg\\min_{\\|\\mathbf{x}\\| = 1} \\|A\\mathbf{x}\\|\\;.\n",
    "$$"
   ]
  },
  {
   "cell_type": "markdown",
   "metadata": {
    "colab_type": "text",
    "id": "wXELtk700oFd",
    "tags": [
     "ST"
    ]
   },
   "source": [
    "### Answer"
   ]
  },
  {
   "cell_type": "markdown",
   "metadata": {
    "colab_type": "text",
    "id": "zTt51Ye7b9tR"
   },
   "source": [
    "$\\hat{\\bf{x}} = \\alpha \\begin{bmatrix} -4 \\\\ 3 \\end{bmatrix}$ for $\\alpha \\in \\begin{Bmatrix}-\\frac{1}{5}, \\frac{1}{5}\\end{Bmatrix}$"
   ]
  },
  {
   "cell_type": "markdown",
   "metadata": {
    "colab_type": "text",
    "id": "8GZdQ7IsoUVR",
    "tags": [
     "HST"
    ]
   },
   "source": [
    "## Part 4: Neural Networks"
   ]
  },
  {
   "cell_type": "markdown",
   "metadata": {
    "colab_type": "text",
    "id": "4gQIvWQAzhzm",
    "tags": [
     "HST"
    ]
   },
   "source": [
    "The code in this part is somewhat modified from the [Keras documentation](https://keras.io/examples/cifar10_cnn/). It downloads the CIFAR-10 dataset, a set of 60000 labeled images grouped in 10 categories, which it splits into training, validation, and test sets. It then defines a function `network` that returns a simple convolutional neural network (the `model`), and a function `train` that trains the model for a single epoch by default, checking performance on the validation set.The function `train` also saves the trained model in a file in the cloud and evaluates the model on the test data. Finally, it returns a history of training and validation accuracies achieved after each epoch of training. The function `train` uses SGD as the default optimizer.\n",
    "\n",
    "_**Important:**_ Make sure you select Python 3 through the `Runtime->Change runtime type` menu at the top of the notebook. Also set the hardware acceleration to `None` in that same menu. We will turn on GPU acceleration later on. TPU acceleration is not always available, so we won't use it."
   ]
  },
  {
   "cell_type": "code",
   "execution_count": 0,
   "metadata": {
    "colab": {
     "base_uri": "https://localhost:8080/",
     "height": 136
    },
    "colab_type": "code",
    "id": "JM7Sh_kizkO-",
    "outputId": "1194a7bc-2e4b-4868-e2d2-75e06b647b65",
    "tags": [
     "HST"
    ]
   },
   "outputs": [
    {
     "name": "stderr",
     "output_type": "stream",
     "text": [
      "Using TensorFlow backend.\n"
     ]
    },
    {
     "name": "stdout",
     "output_type": "stream",
     "text": [
      "Downloading data from https://www.cs.toronto.edu/~kriz/cifar-10-python.tar.gz\n",
      "170500096/170498071 [==============================] - 46s 0us/step\n",
      "x_train shape: (40000, 32, 32, 3)\n",
      "40000 training samples\n",
      "10000 validation samples\n",
      "10000 test samples\n"
     ]
    }
   ],
   "source": [
    "from __future__ import print_function\n",
    "import keras\n",
    "from keras.datasets import cifar10\n",
    "from sklearn.model_selection import train_test_split\n",
    "\n",
    "num_classes = 10\n",
    "\n",
    "# The data, split between train, validation, and test sets:\n",
    "(x_train, y_train), (x_test, y_test) = cifar10.load_data()\n",
    "(x_train, x_validate, y_train, y_validate) = train_test_split(x_train, y_train,\n",
    "                                                             test_size=0.2)\n",
    "print('x_train shape:', x_train.shape)\n",
    "print(x_train.shape[0], 'training samples')\n",
    "print(x_validate.shape[0], 'validation samples')\n",
    "print(x_test.shape[0], 'test samples')\n",
    "\n",
    "# Convert class vectors to binary class matrices.\n",
    "y_train = keras.utils.to_categorical(y_train, num_classes)\n",
    "y_validate = keras.utils.to_categorical(y_validate, num_classes)\n",
    "y_test = keras.utils.to_categorical(y_test, num_classes)\n",
    "\n",
    "x_train = x_train.astype('float32')\n",
    "x_validate = x_validate.astype('float32')\n",
    "x_test = x_test.astype('float32')\n",
    "x_train /= 255\n",
    "x_validate /= 255\n",
    "x_test /= 255"
   ]
  },
  {
   "cell_type": "code",
   "execution_count": 0,
   "metadata": {
    "colab": {
     "base_uri": "https://localhost:8080/",
     "height": 139
    },
    "colab_type": "code",
    "id": "FBMRAFNN5k6S",
    "outputId": "a408a8c4-34e6-420b-b818-a7cc46e914ac",
    "tags": [
     "HST"
    ]
   },
   "outputs": [
    {
     "name": "stdout",
     "output_type": "stream",
     "text": [
      "WARNING:tensorflow:From /usr/local/lib/python3.6/dist-packages/tensorflow/python/framework/op_def_library.py:263: colocate_with (from tensorflow.python.framework.ops) is deprecated and will be removed in a future version.\n",
      "Instructions for updating:\n",
      "Colocations handled automatically by placer.\n",
      "WARNING:tensorflow:From /usr/local/lib/python3.6/dist-packages/keras/backend/tensorflow_backend.py:3445: calling dropout (from tensorflow.python.ops.nn_ops) with keep_prob is deprecated and will be removed in a future version.\n",
      "Instructions for updating:\n",
      "Please use `rate` instead of `keep_prob`. Rate should be set to `rate = 1 - keep_prob`.\n"
     ]
    }
   ],
   "source": [
    "from keras.models import Sequential\n",
    "from keras.layers import Dense, Dropout, Activation, Flatten\n",
    "from keras.layers import Conv2D, MaxPooling2D\n",
    "\n",
    "activation_function = 'relu'\n",
    "\n",
    "def network(activation_function='relu'):\n",
    "  model = Sequential()\n",
    "  model.add(Conv2D(32, (3, 3), padding='same',\n",
    "                  input_shape=x_train.shape[1:]))\n",
    "  model.add(Activation(activation_function))\n",
    "  model.add(Conv2D(32, (3, 3)))\n",
    "  model.add(Activation(activation_function))\n",
    "  model.add(MaxPooling2D(pool_size=(2, 2)))\n",
    "  model.add(Dropout(0.25))\n",
    "\n",
    "  model.add(Conv2D(64, (3, 3), padding='same'))\n",
    "  model.add(Activation(activation_function))\n",
    "  model.add(Conv2D(64, (3, 3)))\n",
    "  model.add(Activation(activation_function))\n",
    "  model.add(MaxPooling2D(pool_size=(2, 2)))\n",
    "  model.add(Dropout(0.25))\n",
    "\n",
    "  model.add(Flatten())\n",
    "  model.add(Dense(512))\n",
    "  model.add(Activation(activation_function))\n",
    "  model.add(Dropout(0.5))\n",
    "  model.add(Dense(num_classes))\n",
    "  model.add(Activation('softmax'))\n",
    "  \n",
    "  return model\n",
    "\n",
    "model = network()"
   ]
  },
  {
   "cell_type": "code",
   "execution_count": 0,
   "metadata": {
    "colab": {},
    "colab_type": "code",
    "id": "35sd9xJr55eM",
    "tags": [
     "HST"
    ]
   },
   "outputs": [],
   "source": [
    "from keras.preprocessing.image import ImageDataGenerator\n",
    "import os\n",
    "from math import ceil\n",
    "\n",
    "def train(model, epochs=1,\n",
    "          opt = keras.optimizers.SGD(lr=0.01, momentum=0.7, decay=0.001),\n",
    "          verbose=2):\n",
    "\n",
    "  batch_size = 32\n",
    "  save_dir = os.path.join(os.getcwd(), 'saved_models')\n",
    "  model_name = 'keras_cifar10_trained_model.h5'\n",
    "\n",
    "  # Configure the model for training\n",
    "  model.compile(loss='categorical_crossentropy',\n",
    "                optimizer=opt,\n",
    "                metrics=['accuracy'])\n",
    "\n",
    "  history = model.fit(x_train, y_train,\n",
    "                      batch_size=batch_size,\n",
    "                      epochs=epochs,\n",
    "                      validation_data=(x_validate, y_validate),\n",
    "                      shuffle=True,\n",
    "                      verbose=verbose)\n",
    "\n",
    "  # Save model and weights\n",
    "  if not os.path.isdir(save_dir):\n",
    "    os.makedirs(save_dir)\n",
    "  model_path = os.path.join(save_dir, model_name)\n",
    "  model.save(model_path)\n",
    "\n",
    "  # Score trained model.\n",
    "  scores = model.evaluate(x_test, y_test, verbose=1)\n",
    "  print('Test loss:', scores[0])\n",
    "  print('Test accuracy:', scores[1])\n",
    "  return [history.epoch, history.history['acc'], history.history['val_acc']]"
   ]
  },
  {
   "cell_type": "markdown",
   "metadata": {
    "colab_type": "text",
    "id": "JMElXg2ETjAE",
    "tags": [
     "HST"
    ]
   },
   "source": [
    "### Problem 4.1\n"
   ]
  },
  {
   "cell_type": "markdown",
   "metadata": {
    "colab_type": "text",
    "id": "oDnPx1gdT5Jm",
    "tags": [
     "HST"
    ]
   },
   "source": [
    "Using Stochastic Gradient Descent (SGD) with the default parameters in `train`, train the model for one epoch _with no hardware acceleration_.\n",
    "\n",
    "Show your call to `train` and the outputs it generates. Is validation accuracy a reasonably good estimate of test accuracy?"
   ]
  },
  {
   "cell_type": "markdown",
   "metadata": {
    "colab_type": "text",
    "id": "73TQApgKiGY_",
    "tags": [
     "HST"
    ]
   },
   "source": [
    "#### Programming Notes\n",
    "\n",
    "+ Hardware acceleration is turned off through the `Runtime->Change runtime type` menu at the top of the notebook, and selecting `None` for hardware acceleration.\n",
    "\n",
    "+ Depending on circumstances, after you change the runtime type, some or all of the notebook state may be lost. This will require you to rerun some of the cells above.\n",
    "\n",
    "+ Tensorflow may generate warning messages that depend on how the Colaboratory interface is implemented. These messages are typically harmless."
   ]
  },
  {
   "cell_type": "markdown",
   "metadata": {
    "colab_type": "text",
    "id": "5sYqNFyUVxdy",
    "tags": [
     "ST"
    ]
   },
   "source": [
    "### Answer"
   ]
  },
  {
   "cell_type": "code",
   "execution_count": 9,
   "metadata": {
    "colab": {
     "base_uri": "https://localhost:8080/",
     "height": 136
    },
    "colab_type": "code",
    "id": "OsQfvsx6gMKV",
    "outputId": "45573555-4762-4480-a246-c99c42b391c9"
   },
   "outputs": [
    {
     "name": "stdout",
     "output_type": "stream",
     "text": [
      "Train on 40000 samples, validate on 10000 samples\n",
      "Epoch 1/1\n",
      " - 239s - loss: 1.5087 - acc: 0.4532 - val_loss: 1.3209 - val_acc: 0.5228\n",
      "10000/10000 [==============================] - 17s 2ms/step\n",
      "Test loss: 1.3148798112869262\n",
      "Test accuracy: 0.5279\n"
     ]
    },
    {
     "data": {
      "text/plain": [
       "[[0], [0.453225], [0.5228]]"
      ]
     },
     "execution_count": 9,
     "metadata": {
      "tags": []
     },
     "output_type": "execute_result"
    }
   ],
   "source": [
    "train(model)"
   ]
  },
  {
   "cell_type": "markdown",
   "metadata": {
    "colab_type": "text",
    "id": "DKW8ABAzTQHM"
   },
   "source": [
    "The validation accuracy can be an esitmate of the test accuracy because the discrepency between them is only 0.0051, which is a very small difference. "
   ]
  },
  {
   "cell_type": "markdown",
   "metadata": {
    "colab_type": "text",
    "id": "NoGPF3W7WU_X",
    "tags": [
     "HST"
    ]
   },
   "source": [
    "### Problem 4.2"
   ]
  },
  {
   "cell_type": "markdown",
   "metadata": {
    "colab_type": "text",
    "id": "yCDoSETDWXCJ",
    "tags": [
     "HST"
    ]
   },
   "source": [
    "Repeat the previous experiment _after turning on GPU acceleration_ from the `Runtime->Change runtime type` menu.\n",
    "\n",
    "Are the accuracy values the same as before? Explain why or why not. What is the approximate ratio of running times of CPU (no acceleration) versus GPU training?"
   ]
  },
  {
   "cell_type": "markdown",
   "metadata": {
    "colab_type": "text",
    "id": "JRnVqg5gXbvx",
    "tags": [
     "ST"
    ]
   },
   "source": [
    "### Answer"
   ]
  },
  {
   "cell_type": "code",
   "execution_count": 9,
   "metadata": {
    "colab": {
     "base_uri": "https://localhost:8080/",
     "height": 136
    },
    "colab_type": "code",
    "id": "9nZltxNSixsZ",
    "outputId": "5a99a2a1-9c14-40c8-dda6-7200016c9673"
   },
   "outputs": [
    {
     "name": "stdout",
     "output_type": "stream",
     "text": [
      "Train on 40000 samples, validate on 10000 samples\n",
      "Epoch 1/1\n",
      " - 13s - loss: 1.4208 - acc: 0.4838 - val_loss: 1.3319 - val_acc: 0.5222\n",
      "10000/10000 [==============================] - 1s 123us/step\n",
      "Test loss: 1.318236988067627\n",
      "Test accuracy: 0.5271\n"
     ]
    },
    {
     "data": {
      "text/plain": [
       "[[0], [0.48385], [0.5222]]"
      ]
     },
     "execution_count": 9,
     "metadata": {
      "tags": []
     },
     "output_type": "execute_result"
    }
   ],
   "source": [
    "train(model)"
   ]
  },
  {
   "cell_type": "markdown",
   "metadata": {
    "colab_type": "text",
    "id": "wRJCRdfccq-x"
   },
   "source": [
    "Yes, it is the same. GPU just computes fast but it only trains the network once on one epoch, given all the hyperparameters are the same setting as preivous experiment on CPU, the result should be very close.\n",
    "<br>\n",
    "The ratio of running times on cpu versus running times on GPU is around 18."
   ]
  },
  {
   "cell_type": "markdown",
   "metadata": {
    "colab_type": "text",
    "id": "UL293H0_YerN",
    "tags": [
     "HST"
    ]
   },
   "source": [
    "### Problem 4.3"
   ]
  },
  {
   "cell_type": "markdown",
   "metadata": {
    "colab_type": "text",
    "id": "hw67mTPzYg-4",
    "tags": [
     "HST"
    ]
   },
   "source": [
    "We keep GPU acceleration turned on from now on.\n",
    "\n",
    "Repeat the experiment above with the ADAM optimizer with the default parameters. This optimizer selects the descent step size adaptively. The ADAM optimizer is invoked by using parameter `opt = keras.optimizers.Adam()` in `train`.\n",
    "\n",
    "Compare accuracies and running times with those achieved in the previous experiment."
   ]
  },
  {
   "cell_type": "markdown",
   "metadata": {
    "colab_type": "text",
    "id": "PRFT6uhiZdIj",
    "tags": [
     "ST"
    ]
   },
   "source": [
    "### Answer"
   ]
  },
  {
   "cell_type": "code",
   "execution_count": 11,
   "metadata": {
    "colab": {
     "base_uri": "https://localhost:8080/",
     "height": 136
    },
    "colab_type": "code",
    "id": "kVrjOsBcjc0C",
    "outputId": "bbf9309a-0b2f-40ac-be16-00286fda0b79"
   },
   "outputs": [
    {
     "name": "stdout",
     "output_type": "stream",
     "text": [
      "Train on 40000 samples, validate on 10000 samples\n",
      "Epoch 1/1\n",
      " - 16s - loss: 1.0614 - acc: 0.6245 - val_loss: 0.8898 - val_acc: 0.6895\n",
      "10000/10000 [==============================] - 1s 126us/step\n",
      "Test loss: 0.901596240234375\n",
      "Test accuracy: 0.6853\n"
     ]
    },
    {
     "data": {
      "text/plain": [
       "[[0], [0.624475], [0.6895]]"
      ]
     },
     "execution_count": 11,
     "metadata": {
      "tags": []
     },
     "output_type": "execute_result"
    }
   ],
   "source": [
    "train(model, opt=keras.optimizers.Adam())"
   ]
  },
  {
   "cell_type": "markdown",
   "metadata": {
    "colab_type": "text",
    "id": "XzK9EeOncRRW"
   },
   "source": [
    "It has much higher accuracies than the preivous runnings both on testing and validations set. The running time is close to the experiment in question 4.2, much faster than that in question 4.1."
   ]
  },
  {
   "cell_type": "markdown",
   "metadata": {
    "colab_type": "text",
    "id": "KEp7_h36bC7R",
    "tags": [
     "HST"
    ]
   },
   "source": [
    "### Problem 4.4"
   ]
  },
  {
   "cell_type": "markdown",
   "metadata": {
    "colab_type": "text",
    "id": "UxdkfA9ibFUM",
    "tags": [
     "HST"
    ]
   },
   "source": [
    "We use the ADAM optimizer with default parameters from now on.\n",
    "\n",
    "Repeat the previous experiment with 30 epochs of training instead of 1 (`epochs=30`). This time, store the value returned by `train`, as you will need it for plotting.\n",
    "\n",
    "When done, plot both training accuracy and validation accuracy as functions of epoch number on the same diagram. Label the axes and add a legend to specify which plot is which.\n",
    "\n",
    "Do you think that the classifier would perform much better if you were to train longer? Explain briefly."
   ]
  },
  {
   "cell_type": "markdown",
   "metadata": {
    "colab_type": "text",
    "id": "Pw9glyaNvwQ6",
    "tags": [
     "HST"
    ]
   },
   "source": [
    "#### Programming Notes\n",
    "\n",
    "+ Look at the definition of `train` to figure out what the output from that function contains.\n",
    "+ Set the value of the `verbose` parameter in the call to `train` to 0 to suppress output, which would be too long to include in your PDF file. You can estimate from your previous experiments how long the code will take to run. Alternatively, set `verbose` to 2 in early test runs, but then set it to 0 in your final run."
   ]
  },
  {
   "cell_type": "markdown",
   "metadata": {
    "colab_type": "text",
    "id": "Wq5m18PJlc7_",
    "tags": [
     "ST"
    ]
   },
   "source": [
    "### Answer"
   ]
  },
  {
   "cell_type": "code",
   "execution_count": 0,
   "metadata": {
    "colab": {
     "base_uri": "https://localhost:8080/",
     "height": 139
    },
    "colab_type": "code",
    "id": "1x9Kr4Czj739",
    "outputId": "9d965edb-ea47-4780-b16b-ec637fb13a7d"
   },
   "outputs": [
    {
     "name": "stdout",
     "output_type": "stream",
     "text": [
      "WARNING:tensorflow:From /usr/local/lib/python3.6/dist-packages/tensorflow/python/ops/math_ops.py:3066: to_int32 (from tensorflow.python.ops.math_ops) is deprecated and will be removed in a future version.\n",
      "Instructions for updating:\n",
      "Use tf.cast instead.\n",
      "10000/10000 [==============================] - 1s 130us/step\n",
      "Test loss: 0.6946677005290985\n",
      "Test accuracy: 0.7786\n"
     ]
    }
   ],
   "source": [
    "A=[]\n",
    "A = train(model, epochs =30 , opt=keras.optimizers.Adam(),verbose = 0 )"
   ]
  },
  {
   "cell_type": "code",
   "execution_count": 0,
   "metadata": {
    "colab": {
     "base_uri": "https://localhost:8080/",
     "height": 376
    },
    "colab_type": "code",
    "id": "_xAAAE-Tmbvy",
    "outputId": "fb05176c-36bd-4707-8366-857361fe2cb6"
   },
   "outputs": [
    {
     "data": {
      "image/png": "[encoded data removed]",
      "text/plain": [
       "<Figure size 576x396 with 1 Axes>"
      ]
     },
     "metadata": {
      "tags": []
     },
     "output_type": "display_data"
    }
   ],
   "source": [
    "import matplotlib.pyplot as plt\n",
    "plt.plot(A[1])\n",
    "plt.plot(A[2])\n",
    "plt.title('Model accuracy')\n",
    "plt.ylabel('Accuracy')\n",
    "plt.xlabel('Epoch')\n",
    "plt.legend(['Train', 'validation'], loc='upper left')\n",
    "plt.show()"
   ]
  },
  {
   "cell_type": "markdown",
   "metadata": {
    "colab_type": "text",
    "id": "LGHnFecFwz_8"
   },
   "source": [
    "The classifier will not perform much better if I set it to train a longer time. Training on the same dataset for a really long time may gain a really small training error. However, this is not good when testing. The network tends to overfit if we overly trained it. So, although a low training error can be gained from long time training, the performance of this classifier may actually decrease."
   ]
  },
  {
   "cell_type": "markdown",
   "metadata": {
    "colab_type": "text",
    "id": "UxdW8dV4uoCq",
    "tags": [
     "HST"
    ]
   },
   "source": [
    "### Problem 4.5"
   ]
  },
  {
   "cell_type": "markdown",
   "metadata": {
    "colab_type": "text",
    "id": "A97WOgV8uweq",
    "tags": [
     "HST"
    ]
   },
   "source": [
    "Suggest at least three different ways to improve the performance of the classifier defined in this Part. For each way, explain why that would help. This is an open-ended question, and answers may vary. Do _not_ implement your suggestions, and do _not_ refer to techniques we have not covered in class (such as batch normalization or other techniques you may have heard of).\n",
    "\n",
    "If you suggest more than three ways, we will grade you for the best ones. However, we _will_ deduct points for patently wrong statements in any of your suggestions."
   ]
  },
  {
   "cell_type": "markdown",
   "metadata": {
    "colab_type": "text",
    "id": "12XxnmJwnYzN",
    "tags": [
     "ST"
    ]
   },
   "source": [
    "### Answer"
   ]
  },
  {
   "cell_type": "markdown",
   "metadata": {
    "colab_type": "text",
    "id": "xPOmEFTbxbAu"
   },
   "source": [
    "First, we can enlarge the size of the training set. Using more data to train . the model can effectively reduce overfitting, which leads to a better performace of this classifier.\n",
    "Second, we can choose a better learning rate by cross-validation. Learning rate is a parameter of critical importance. a rate that is too large leads to large steps that often overshoot, and a rate that is too small leads to very slow progress. So, choosing the learning rate properly is also a way to improve performance.\n",
    "Third, we can choose a good epoch by monitoring the validation error on the validation set. Terminating the algorithm at the point where the validation error starts to increase can prevent overfitting too. By this way, we also can improve the performance of the classifier.\n",
    "Fourth, choosing a proper batch size can also be helpful. It turns out that small values of batch size achieve the best compromise between reducing variance and keeping steps flexible. We can also choose a proper batch size by cross-validation to improve the performance of the classifier.\n",
    "\n"
   ]
  }
 ],
 "metadata": {
  "accelerator": "GPU",
  "colab": {
   "collapsed_sections": [],
   "name": "Copy of homework05.ipynb",
   "provenance": [],
   "version": "0.3.2"
  },
  "kernelspec": {
   "display_name": "Python 3",
   "language": "python",
   "name": "python3"
  },
  "language_info": {
   "codemirror_mode": {
    "name": "ipython",
    "version": 3
   },
   "file_extension": ".py",
   "mimetype": "text/x-python",
   "name": "python",
   "nbconvert_exporter": "python",
   "pygments_lexer": "ipython3",
   "version": "3.7.1"
  }
 },
 "nbformat": 4,
 "nbformat_minor": 1
}
